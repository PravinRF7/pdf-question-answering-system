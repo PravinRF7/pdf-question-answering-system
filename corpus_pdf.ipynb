{
 "cells": [
  {
   "cell_type": "code",
   "execution_count": 43,
   "metadata": {},
   "outputs": [],
   "source": [
    "import os\n",
    "import pandas as pd\n",
    "import matplotlib.pyplot as plt\n",
    "from langchain.document_loaders import PyPDFLoader\n",
    "from langchain.text_splitter import RecursiveCharacterTextSplitter\n",
    "from langchain.chains.question_answering import load_qa_chain\n",
    "from langchain.chains import ConversationalRetrievalChain\n",
    "from langchain_community.embeddings import OllamaEmbeddings\n",
    "from langchain_text_splitters import RecursiveCharacterTextSplitter\n",
    "from langchain_community.vectorstores import Chroma"
   ]
  },
  {
   "cell_type": "code",
   "execution_count": 44,
   "metadata": {},
   "outputs": [
    {
     "name": "stdout",
     "output_type": "stream",
     "text": [
      "page_content='Jessup\\nCellars\\nCorpus\\nJessup\\nCellars\\nInformation\\nJessup\\nCellars\\nhas\\na\\ncasual\\nand\\ninviting\\natmosphere\\nand\\nwas\\nthe\\nfirst\\ntasting\\nroom\\nopened\\nin\\nYountville\\nin\\n2003.\\nYou\\nhave\\nthe\\noption\\nof\\nsitting\\ninside\\nour\\nstunning\\nart\\ngallery\\nor\\nyou\\nmay\\nchoose\\nto\\nenjoy\\nthe\\npatio\\nwith\\ngiant\\numbrellas.\\nWe\\nalso\\nhave\\nspace\\navailable\\nfor\\nprivate\\ngroups\\nand\\nspecial\\naccommodations\\nand\\nsnacks\\nfor\\nyour\\nchildren.\\nOur\\nfine\\nart\\nis\\nmeticulously\\ncurated\\nby\\nour\\nlead\\nartist\\nJermaine\\nDante\\nwho\\nexhibits\\nhis\\ncolorful\\ncreations\\nin\\nlarge\\nformats\\nin\\nour\\nspacious\\ngallery\\nwhere\\nyou\\ncan\\ntake\\nin,\\nor\\ntake\\nhome\\nthe\\ninspiring\\nart\\nwhile\\nimbibing\\nyour\\nfavorite\\nJessup\\nwines.\\nBOTH\\nSEASONED\\nWINE\\nLOVERS,\\nAND\\nTHOSE\\nJUST\\nLEARNING\\nABOUT\\nWINE,\\nARE\\nEMBRACED\\nAND\\nWELCOMED\\nAT\\nJESSUP\\nCELLARS.\\nLocated\\njust\\na\\nblock\\nnorth\\nfrom\\nthe\\nfamed\\nThe\\nFrench\\nLaundry\\nin\\nthe\\nquaint\\nvillage\\nof\\nYountville,\\nour\\nwines\\nare\\navailable\\nexclusively\\nthrough\\nour\\nTasting\\nRoom\\nGallery\\nand\\nwebsite.\\nFounded\\nby\\nDan\\nand\\nBecky\\nBlue,\\nRoy\\nand\\nCheri\\nEisiminger,\\nVance\\nand\\nJana\\nThompson,\\nJim\\nand\\nKelly\\nMazzo,\\nKerry\\nand\\nCindi\\nSolomon,\\nand\\nEric\\nand\\nMarleen\\nDonnenfeld,\\ntheir\\nmission\\nis\\nto\\ncreate\\nand\\nshare\\nlife-enriching\\nexperiences\\nfor\\ntheir\\nmembers\\nand\\nguests,\\nwhile\\nalso\\ngiving\\nback\\nto\\nthe\\ncommunity\\nthrough\\nthe\\nsupport\\nof\\nthe\\narts.\\nTHE\\nART\\nOF\\nHOSPITALITY\\nGuests\\nat\\nJessup\\nCellars\\nmay\\nchoose\\nto\\ntaste\\nat\\nits\\nwine\\nbar\\nor\\nrelax\\nwith\\nsit-down,\\nhosted\\ntastings\\nin\\nthe\\nwinery’s\\nspacious\\ngallery\\namong\\ncurated\\nart,\\nwhich\\nfeatures\\nrotating\\ninstallations\\nby\\ncelebrated\\nregional\\nand\\nnational\\nartists.The\\nwinery\\nalso\\nspecializes\\nin\\nhosting\\ninteractive\\nexperiences\\nwith\\na\\nfocus\\non\\nthe\\narts.\\nHighlights\\ninclude\\nits\\nArt\\nHouse\\nSessions\\nsummer\\nmusic\\nseries\\nand\\nArt\\nHouse\\nShort\\nFilm\\nSeries.\\nAll\\nof\\nthe\\nabove,\\nalong\\nwith\\nexclusive\\naccess\\nto\\nlimited\\nrelease\\nwines\\nand\\nmember-only\\nevents,\\nmakes\\nJessup\\nCellars\\nwine\\nclub\\nmembership\\none\\nof\\nthe\\nbest\\nexperiences\\nin\\nwine\\n–\\nboth\\nin\\nthe\\nNapa\\nValley,\\nand\\nwhen\\nguests\\ntravel\\nhome\\nto\\nshare\\ngreat\\nwine\\nand\\nfood\\nwith\\nfriends\\nand\\nfamily.\\nFor\\nthe\\nowners\\nand\\nstaff,\\nit’s\\nall\\nabout\\ncreating\\na\\ncommunity\\nto\\nshare\\ntheir\\nlove\\nof\\nwine,\\nthe\\narts,\\nand\\neverything\\nthat\\nmakes\\nthe\\nNapa\\nValley\\nso\\nspecial.\\nCURRENT\\nGALLERY\\nFEATURE\\nJERMAINE\\nDANTÉ\\nMeet\\nour\\nnew\\nresident\\nartist\\nat\\nthe\\nJessup\\nGallery,\\nJermaine\\nDanté.\\nAs\\na\\nresident\\nof\\nNapa\\nValley,\\nJermaine’s\\nartwork\\nis\\ncharacterized\\nby\\nits\\nbold\\nstrokes\\nand\\nevocative\\nimagery,\\nserving\\nas\\na\\nperfect\\nembodiment\\nof\\nthe\\nsymbiotic\\nrelationship\\nbetween\\nart\\nand\\nwine.\\nA\\ncertified\\nsommelier,\\nJermaine\\ncaptures\\nthe\\nessence\\nof\\nWine\\nCountry\\nin\\nmany\\nof\\nhis\\npieces,\\ninfusing\\nthem\\nwith\\nhis\\nunique\\nperspective\\nand\\nartistic\\nflair.\\nCome\\nby\\nto\\nsee\\nhis\\nart\\non\\ndisplay\\nthis\\nsummer\\nand\\nenjoy\\na\\nglass\\nof\\nwine\\nas\\nyou\\nstroll\\nthrough\\nthe\\ngallery.\\nJessup\\nCellars\\nand\\nTasting\\nGallery\\nis\\nlocated\\nat\\n6740\\nWashington\\nSt.\\nat\\nthe\\nNorth\\nend\\nof\\nYountville\\nacross\\nfrom\\nRH\\nYountville\\nand\\nNorth\\nBlock\\nRestaurant.\\nWe\\nare\\nopen\\nfrom\\n10AM\\nto\\n5:30PM\\n7\\ndays\\na\\nweek\\nand\\ncan\\nbe\\nreached\\nat\\n707.944.5620\\nfor\\nreservations\\nand\\ninformation.\\nJessup\\nCellars\\ncan\\nbe\\nfound\\nat\\nhttps://jessupcellars.com/\\nwhere\\nyou\\nmay\\nfind\\ndirections,\\npurchase\\nwine\\nor\\nmake\\nreservations\\nfor\\ntastings\\nat\\nour\\nYountville\\ntasting\\nroom.\\nYountville,\\nCalifornia\\nis\\nlocated\\n9\\nmiles\\nnorth\\nof\\nNapa\\nand\\n9\\nmiles\\nsouth\\nof\\nSt.\\nHelena\\nin\\nthe\\ncenter\\nof\\nthe\\nNapa\\nValley.\\nYou\\ncan\\nreach\\nYountville\\nby\\ncar\\nfrom\\nanywhere\\nin\\nthe\\nNorthern\\nCalifornia\\nBay\\nArea\\nin\\nabout\\nan\\nhour,\\nwhile\\ntravelers\\nfrom\\nthe\\nSacramento\\nregion\\nwill\\ntake\\nabout\\n1.5\\nhours.\\nThe\\narea\\nis\\nserved\\nby\\nmultiple\\nairports\\nincluding\\nSFO,\\nOakland,\\nSacramento\\nand\\nSanta\\nRosa.\\nJessup\\nCellars\\nwelcomes\\nyour\\nwell-behaved\\ndogs\\ninside\\nor\\noutside\\nand\\nwe\\nhave\\ngluten\\nfree\\ndog\\ntreats\\navailable\\nas\\nwell\\nas\\nwater\\ndishes.\\nJessup\\nCellars\\nwines\\nare\\ncarefully\\ncrafted\\nwith\\nthe\\nhelp\\nof\\nour\\nrenowned\\nconsulting\\nwinemaker\\nRob\\nLloyd\\nwho\\nfamously\\ncrafted\\nChardonnay\\nfor\\nRombauer,\\nLa\\nCrema\\nand\\nCakebread.\\nNot\\nonly\\nhas\\nRob\\ncreated\\none\\nof\\nthe\\nbest\\nChardonnays\\nin\\nthe\\nNapa\\nValley\\nwith\\nour\\n2022' metadata={'source': 'Corpus.pdf', 'page': 0}\n"
     ]
    }
   ],
   "source": [
    "local_path = \"Corpus.pdf\"\n",
    "\n",
    "loader = PyPDFLoader(local_path)\n",
    "pages = loader.load_and_split()\n",
    "print(pages[0])"
   ]
  },
  {
   "cell_type": "code",
   "execution_count": 45,
   "metadata": {},
   "outputs": [],
   "source": [
    "chunks = pages"
   ]
  },
  {
   "cell_type": "code",
   "execution_count": 46,
   "metadata": {},
   "outputs": [
    {
     "name": "stderr",
     "output_type": "stream",
     "text": [
      "Token indices sequence length is longer than the specified maximum sequence length for this model (1138 > 1024). Running this sequence through the model will result in indexing errors\n"
     ]
    }
   ],
   "source": [
    "\n",
    "import textract\n",
    "doc = textract.process(local_path)\n",
    "\n",
    "with open('corpus_1.txt', 'w') as f:\n",
    "    f.write(doc.decode('utf-8'))\n",
    "\n",
    "with open('corpus_1.txt', 'r') as f:\n",
    "    text = f.read()\n",
    "\n",
    "\n",
    "\n",
    "\n",
    "def count_tokens(text: str) -> int:\n",
    "    return len(tokenizer.encode(text))\n",
    "\n",
    "\n",
    "text_splitter = RecursiveCharacterTextSplitter(\n",
    "    # Set a really small chunk size, just to show.\n",
    "    chunk_size = 512,\n",
    "    chunk_overlap  = 24,\n",
    "    length_function = count_tokens,\n",
    ")\n",
    "\n",
    "chunks = text_splitter.create_documents([text])"
   ]
  },
  {
   "cell_type": "code",
   "execution_count": 47,
   "metadata": {},
   "outputs": [
    {
     "data": {
      "text/plain": [
       "langchain_core.documents.base.Document"
      ]
     },
     "execution_count": 47,
     "metadata": {},
     "output_type": "execute_result"
    }
   ],
   "source": [
    "type(chunks[0]) "
   ]
  },
  {
   "cell_type": "code",
   "execution_count": 48,
   "metadata": {},
   "outputs": [
    {
     "data": {
      "image/png": "[encoded data removed]",
      "text/plain": [
       "<Figure size 640x480 with 1 Axes>"
      ]
     },
     "metadata": {},
     "output_type": "display_data"
    }
   ],
   "source": [
    "# Quick data visualization to ensure chunking was successful\n",
    "\n",
    "# Create a list of token counts\n",
    "token_counts = [count_tokens(chunk.page_content) for chunk in chunks]\n",
    "\n",
    "# Create a DataFrame from the token counts\n",
    "df = pd.DataFrame({'Token Count': token_counts})\n",
    "\n",
    "# Create a histogram of the token count distribution\n",
    "df.hist(bins=40, )\n",
    "\n",
    "# Show the plot\n",
    "plt.show()"
   ]
  },
  {
   "cell_type": "code",
   "execution_count": 49,
   "metadata": {},
   "outputs": [
    {
     "name": "stderr",
     "output_type": "stream",
     "text": [
      "OllamaEmbeddings: 100%|██████████| 27/27 [00:03<00:00,  7.16it/s]\n"
     ]
    }
   ],
   "source": [
    "vector_db = Chroma.from_documents(\n",
    "    documents=chunks, \n",
    "    embedding=OllamaEmbeddings(model=\"nomic-embed-text\",show_progress=True),\n",
    "    collection_name=\"local-rag\"\n",
    ")"
   ]
  },
  {
   "cell_type": "code",
   "execution_count": 50,
   "metadata": {},
   "outputs": [
    {
     "name": "stderr",
     "output_type": "stream",
     "text": [
      "OllamaEmbeddings: 100%|██████████| 1/1 [00:00<00:00, 181.13it/s]\n"
     ]
    },
    {
     "data": {
      "text/plain": [
       "Document(page_content='sometimes for many years or even decades. Overall, the Solera method is a meticulous and\\ntime-honored process that results in complex, well-balanced dessert wines with layers of flavor and\\naroma.')"
      ]
     },
     "execution_count": 50,
     "metadata": {},
     "output_type": "execute_result"
    }
   ],
   "source": [
    "query = \"What is corpus\"\n",
    "docs = vector_db.similarity_search(query)\n",
    "docs[0]"
   ]
  },
  {
   "cell_type": "code",
   "execution_count": 51,
   "metadata": {},
   "outputs": [],
   "source": [
    "from langchain.prompts import ChatPromptTemplate, PromptTemplate\n",
    "from langchain_core.output_parsers import StrOutputParser\n",
    "from langchain_community.chat_models import ChatOllama\n",
    "from langchain_core.runnables import RunnablePassthrough\n",
    "from langchain.retrievers.multi_query import MultiQueryRetriever"
   ]
  },
  {
   "cell_type": "code",
   "execution_count": 52,
   "metadata": {},
   "outputs": [],
   "source": [
    "# LLM from Ollama\n",
    "local_model = \"mistral\"\n",
    "llm = ChatOllama(model=local_model)"
   ]
  },
  {
   "cell_type": "code",
   "execution_count": 53,
   "metadata": {},
   "outputs": [],
   "source": [
    "QUERY_PROMPT = PromptTemplate(\n",
    "    input_variables=[\"question\"],\n",
    "    template=\"\"\"You are an AI language model assistant. Your task is to generate five\n",
    "    different versions of the given user question to retrieve relevant documents from\n",
    "    a vector database. By generating multiple perspectives on the user question, your\n",
    "    goal is to help the user overcome some of the limitations of the distance-based\n",
    "    similarity search. Provide these alternative questions separated by newlines.\n",
    "    Original question: {question}\"\"\",\n",
    ")"
   ]
  },
  {
   "cell_type": "code",
   "execution_count": 54,
   "metadata": {},
   "outputs": [],
   "source": [
    "retriever = MultiQueryRetriever.from_llm(\n",
    "    vector_db.as_retriever(), \n",
    "    llm,\n",
    "    prompt=QUERY_PROMPT\n",
    ")\n",
    "\n",
    "# RAG prompt\n",
    "template = \"\"\"Answer the question based ONLY on the following context:\n",
    "{context}\n",
    "Question: {question}\n",
    "\"\"\"\n",
    "\n",
    "prompt = ChatPromptTemplate.from_template(template)"
   ]
  },
  {
   "cell_type": "code",
   "execution_count": 55,
   "metadata": {},
   "outputs": [],
   "source": [
    "chain = (\n",
    "    {\"context\": retriever, \"question\": RunnablePassthrough()}\n",
    "    | prompt\n",
    "    | llm\n",
    "    | StrOutputParser()\n",
    ")"
   ]
  },
  {
   "cell_type": "code",
   "execution_count": 56,
   "metadata": {},
   "outputs": [
    {
     "name": "stderr",
     "output_type": "stream",
     "text": [
      "OllamaEmbeddings: 100%|██████████| 1/1 [00:00<00:00,  1.03it/s]\n",
      "OllamaEmbeddings: 100%|██████████| 1/1 [00:00<00:00, 19.14it/s]\n",
      "OllamaEmbeddings: 100%|██████████| 1/1 [00:00<00:00,  9.12it/s]\n",
      "OllamaEmbeddings: 100%|██████████| 1/1 [00:00<00:00,  9.56it/s]\n",
      "OllamaEmbeddings: 100%|██████████| 1/1 [00:00<00:00, 15.87it/s]\n"
     ]
    },
    {
     "data": {
      "text/plain": [
       "\" Hello! How can I help you today? Here's some information about the places and activities mentioned in the context you provided:\\n\\n1. The Napa Valley Lodge offers concierge services, meeting and event space, and is located with a picturesque view of Grgich Hills vineyards.\\n2. Jessup Cellars is a winery that offers wine club memberships with three options (Tasting Club, My Jessup Cellar 6, My Jessup Cellar 12) and features a tasting room and gallery in Yountville, California. They also have resident artist Jermaine Danté currently displaying his artwork there.\\n3. The Kitchen at Priest Ranch is a restaurant located in Napa Valley that serves seasonal American cuisine.\\n4. RH Yountville is a location with an unknown context provided in the text.\\n5. The area of Yountville, California, is known for its wineries and vineyards, as well as being easily accessible from multiple airports including SFO, Oakland, Sacramento, and Santa Rosa. Jessup Cellars is dog-friendly and welcomes well-behaved pets.\\n6. The art of Jermaine Danté, a resident artist at the Jessup Gallery, is characterized by bold strokes and evocative imagery, embodying the symbiotic relationship between art and wine in Napa Valley.\\n7. Rob Lloyd, a renowned consulting winemaker, famously crafted Chardonnay for Rombauer, La Crema, and Cakebread at Jessup Cellars.\""
      ]
     },
     "execution_count": 56,
     "metadata": {},
     "output_type": "execute_result"
    }
   ],
   "source": [
    "chain.invoke(input(\"\"))"
   ]
  },
  {
   "cell_type": "code",
   "execution_count": null,
   "metadata": {},
   "outputs": [],
   "source": []
  }
 ],
 "metadata": {
  "kernelspec": {
   "display_name": "llms",
   "language": "python",
   "name": "python3"
  },
  "language_info": {
   "codemirror_mode": {
    "name": "ipython",
    "version": 3
   },
   "file_extension": ".py",
   "mimetype": "text/x-python",
   "name": "python",
   "nbconvert_exporter": "python",
   "pygments_lexer": "ipython3",
   "version": "3.12.3"
  }
 },
 "nbformat": 4,
 "nbformat_minor": 2
}
